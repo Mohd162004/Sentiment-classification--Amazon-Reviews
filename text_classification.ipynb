{
 "cells": [
  {
   "cell_type": "markdown",
   "metadata": {},
   "source": [
    "# **Amazon Reviews Sentiment Analysis**\n",
    "\n",
    "## **Import Libraries**\n",
    "\n",
    "We begin by importing the necessary libraries for this sentiment analysis project. These include libraries for data manipulation, visualization, and machine learning models. Additionally, we use `spaCy` for natural language processing and `torch` for deep learning with RNN and LSTM models."
   ]
  },
  {
   "cell_type": "code",
   "execution_count": 1,
   "metadata": {},
   "outputs": [
    {
     "data": {
      "text/plain": [
       "<Figure size 1000x500 with 0 Axes>"
      ]
     },
     "metadata": {},
     "output_type": "display_data"
    }
   ],
   "source": [
    "import re\n",
    "import pandas as pd\n",
    "import numpy as np\n",
    "import matplotlib.pyplot as plt\n",
    "plt.figure(figsize=(10, 5))\n",
    "import seaborn as sns\n",
    "from sklearn.model_selection import train_test_split\n",
    "import spacy\n",
    "import torch\n",
    "import torch.nn as nn\n",
    "import torch.optim as optim\n",
    "from torch.utils.data import DataLoader, Dataset, TensorDataset\n",
    "from keras.preprocessing.text import Tokenizer\n",
    "from keras.preprocessing.sequence import pad_sequences\n"
   ]
  },
  {
   "cell_type": "markdown",
   "metadata": {},
   "source": [
    "## **Load spaCy Model**\n",
    "\n",
    "Next, we load the **spaCy** English language model. This model will be used for text tokenization, lemmatization, and other NLP-related tasks in the project."
   ]
  },
  {
   "cell_type": "code",
   "execution_count": 2,
   "metadata": {},
   "outputs": [],
   "source": [
    "# Load spaCy model\n",
    "nlp = spacy.load('en_core_web_sm')\n"
   ]
  },
  {
   "cell_type": "markdown",
   "metadata": {},
   "source": [
    "## **Setup Device for GPU/CPU**\n",
    "\n",
    "We check for GPU availability using PyTorch. If a GPU is available, it will be used for faster training; otherwise, the model will fall back to using the CPU."
   ]
  },
  {
   "cell_type": "code",
   "execution_count": 3,
   "metadata": {},
   "outputs": [
    {
     "name": "stdout",
     "output_type": "stream",
     "text": [
      "Using device: cuda\n"
     ]
    }
   ],
   "source": [
    "device = torch.device(\"cuda\" if torch.cuda.is_available() else \"cpu\")\n",
    "print(f'Using device: {device}')\n"
   ]
  },
  {
   "cell_type": "markdown",
   "metadata": {},
   "source": [
    "## **Load Dataset**\n",
    "\n",
    "We load the Amazon reviews dataset into a pandas DataFrame and display the first 10 rows. The dataset contains the review text along with the sentiment label for each review."
   ]
  },
  {
   "cell_type": "code",
   "execution_count": 4,
   "metadata": {},
   "outputs": [
    {
     "data": {
      "text/html": [
       "<div>\n",
       "<style scoped>\n",
       "    .dataframe tbody tr th:only-of-type {\n",
       "        vertical-align: middle;\n",
       "    }\n",
       "\n",
       "    .dataframe tbody tr th {\n",
       "        vertical-align: top;\n",
       "    }\n",
       "\n",
       "    .dataframe thead th {\n",
       "        text-align: right;\n",
       "    }\n",
       "</style>\n",
       "<table border=\"1\" class=\"dataframe\">\n",
       "  <thead>\n",
       "    <tr style=\"text-align: right;\">\n",
       "      <th></th>\n",
       "      <th>sentiments</th>\n",
       "      <th>cleaned_review</th>\n",
       "      <th>cleaned_review_length</th>\n",
       "      <th>review_score</th>\n",
       "    </tr>\n",
       "  </thead>\n",
       "  <tbody>\n",
       "    <tr>\n",
       "      <th>0</th>\n",
       "      <td>positive</td>\n",
       "      <td>i wish would have gotten one earlier love it a...</td>\n",
       "      <td>19</td>\n",
       "      <td>5.0</td>\n",
       "    </tr>\n",
       "    <tr>\n",
       "      <th>1</th>\n",
       "      <td>neutral</td>\n",
       "      <td>i ve learned this lesson again open the packag...</td>\n",
       "      <td>88</td>\n",
       "      <td>1.0</td>\n",
       "    </tr>\n",
       "    <tr>\n",
       "      <th>2</th>\n",
       "      <td>neutral</td>\n",
       "      <td>it is so slow and lags find better option</td>\n",
       "      <td>9</td>\n",
       "      <td>2.0</td>\n",
       "    </tr>\n",
       "    <tr>\n",
       "      <th>3</th>\n",
       "      <td>neutral</td>\n",
       "      <td>roller ball stopped working within months of m...</td>\n",
       "      <td>12</td>\n",
       "      <td>1.0</td>\n",
       "    </tr>\n",
       "    <tr>\n",
       "      <th>4</th>\n",
       "      <td>neutral</td>\n",
       "      <td>i like the color and size but it few days out ...</td>\n",
       "      <td>21</td>\n",
       "      <td>1.0</td>\n",
       "    </tr>\n",
       "    <tr>\n",
       "      <th>5</th>\n",
       "      <td>positive</td>\n",
       "      <td>overall love this mouse the size weight clicki...</td>\n",
       "      <td>68</td>\n",
       "      <td>3.0</td>\n",
       "    </tr>\n",
       "    <tr>\n",
       "      <th>6</th>\n",
       "      <td>neutral</td>\n",
       "      <td>it stopped working</td>\n",
       "      <td>3</td>\n",
       "      <td>1.0</td>\n",
       "    </tr>\n",
       "    <tr>\n",
       "      <th>7</th>\n",
       "      <td>positive</td>\n",
       "      <td>my son uses school issued chromebook for schoo...</td>\n",
       "      <td>170</td>\n",
       "      <td>1.0</td>\n",
       "    </tr>\n",
       "    <tr>\n",
       "      <th>8</th>\n",
       "      <td>negative</td>\n",
       "      <td>loved this cute little mouse but it broke afte...</td>\n",
       "      <td>17</td>\n",
       "      <td>1.0</td>\n",
       "    </tr>\n",
       "    <tr>\n",
       "      <th>9</th>\n",
       "      <td>negative</td>\n",
       "      <td>should ve spent the money to get quality produ...</td>\n",
       "      <td>17</td>\n",
       "      <td>1.0</td>\n",
       "    </tr>\n",
       "  </tbody>\n",
       "</table>\n",
       "</div>"
      ],
      "text/plain": [
       "  sentiments                                     cleaned_review  \\\n",
       "0   positive  i wish would have gotten one earlier love it a...   \n",
       "1    neutral  i ve learned this lesson again open the packag...   \n",
       "2    neutral          it is so slow and lags find better option   \n",
       "3    neutral  roller ball stopped working within months of m...   \n",
       "4    neutral  i like the color and size but it few days out ...   \n",
       "5   positive  overall love this mouse the size weight clicki...   \n",
       "6    neutral                                 it stopped working   \n",
       "7   positive  my son uses school issued chromebook for schoo...   \n",
       "8   negative  loved this cute little mouse but it broke afte...   \n",
       "9   negative  should ve spent the money to get quality produ...   \n",
       "\n",
       "   cleaned_review_length  review_score  \n",
       "0                     19           5.0  \n",
       "1                     88           1.0  \n",
       "2                      9           2.0  \n",
       "3                     12           1.0  \n",
       "4                     21           1.0  \n",
       "5                     68           3.0  \n",
       "6                      3           1.0  \n",
       "7                    170           1.0  \n",
       "8                     17           1.0  \n",
       "9                     17           1.0  "
      ]
     },
     "execution_count": 4,
     "metadata": {},
     "output_type": "execute_result"
    }
   ],
   "source": [
    "df = pd.read_csv('Data/amazon_reviews.csv')\n",
    "df.head(10)\n"
   ]
  },
  {
   "cell_type": "markdown",
   "metadata": {},
   "source": [
    "**Check for Missing Values**\n",
    "\n",
    "We check for missing values in the dataset to ensure that there are no missing entries that could affect our model’s performance. This step will show how many null values exist in each column."
   ]
  },
  {
   "cell_type": "code",
   "execution_count": 5,
   "metadata": {},
   "outputs": [
    {
     "name": "stdout",
     "output_type": "stream",
     "text": [
      "sentiments               0\n",
      "cleaned_review           3\n",
      "cleaned_review_length    0\n",
      "review_score             0\n",
      "dtype: int64\n"
     ]
    }
   ],
   "source": [
    "print(df.isna().sum())"
   ]
  },
  {
   "cell_type": "markdown",
   "metadata": {},
   "source": [
    "**Drop Missing Values**\n",
    "\n",
    "To maintain data integrity, we drop rows with missing values in the dataset. After dropping, we check again to ensure no missing values remain."
   ]
  },
  {
   "cell_type": "code",
   "execution_count": 6,
   "metadata": {},
   "outputs": [
    {
     "name": "stdout",
     "output_type": "stream",
     "text": [
      "sentiments               0\n",
      "cleaned_review           0\n",
      "cleaned_review_length    0\n",
      "review_score             0\n",
      "dtype: int64\n"
     ]
    }
   ],
   "source": [
    "df = df.dropna()\n",
    "print(df.isna().sum())"
   ]
  },
  {
   "cell_type": "markdown",
   "metadata": {},
   "source": [
    "## **spaCy-based Text Preprocessing**\n",
    "\n",
    "We define a text preprocessing function using **spaCy**. This function removes non-alphabetical characters, converts the text to lowercase, tokenizes the text, removes stop words and punctuation, and applies lemmatization to reduce words to their base forms. The cleaned reviews are then stored in the `cleaned_review` column."
   ]
  },
  {
   "cell_type": "code",
   "execution_count": 7,
   "metadata": {},
   "outputs": [
    {
     "data": {
      "text/plain": [
       "0            wish get early love make work laptop easy\n",
       "1    ve learn lesson open package use product right...\n",
       "2                            slow lag find well option\n",
       "3    roller ball stop work month minimal use piece ...\n",
       "4        like color size day return period hold charge\n",
       "Name: cleaned_review, dtype: object"
      ]
     },
     "execution_count": 7,
     "metadata": {},
     "output_type": "execute_result"
    }
   ],
   "source": [
    "# spaCy-based text preprocessing\n",
    "def text_preprocessing(text):\n",
    "    text = re.sub(r'[^a-zA-Z\\s]', '', text)  # Remove non-alphabetical characters\n",
    "    doc = nlp(text.lower())  # Tokenize using spaCy and convert to lowercase\n",
    "    \n",
    "    # Remove stop words and punctuation\n",
    "    tokens = [token.lemma_ for token in doc if not token.is_stop and not token.is_punct]\n",
    "    \n",
    "    return ' '.join(tokens)\n",
    "\n",
    "# Apply preprocessing\n",
    "df['cleaned_review'] = df['cleaned_review'].apply(text_preprocessing)\n",
    "df['cleaned_review'].head()\n"
   ]
  },
  {
   "cell_type": "markdown",
   "metadata": {},
   "source": [
    "## **Tokenization Using Keras**\n",
    "\n",
    "We use the **Keras Tokenizer** to convert the preprocessed text into sequences of tokens (integers). Each word in the cleaned reviews is assigned a unique index."
   ]
  },
  {
   "cell_type": "code",
   "execution_count": 8,
   "metadata": {},
   "outputs": [],
   "source": [
    "tokenizer = Tokenizer()\n",
    "tokenizer.fit_on_texts(df['cleaned_review'])\n",
    "sequences = tokenizer.texts_to_sequences(df['cleaned_review'])"
   ]
  },
  {
   "cell_type": "markdown",
   "metadata": {},
   "source": [
    "## **Padding Sequences**\n",
    "\n",
    "Since reviews can vary in length, we pad the tokenized sequences to ensure all sequences have the same length. We also one-hot encode the labels (sentiments) for model training."
   ]
  },
  {
   "cell_type": "code",
   "execution_count": 9,
   "metadata": {},
   "outputs": [],
   "source": [
    "max_len = max(len(seq) for seq in sequences)\n",
    "padded_sequences = pad_sequences(sequences, maxlen=max_len)\n",
    "labels = pd.get_dummies(df['sentiments']).values"
   ]
  },
  {
   "cell_type": "markdown",
   "metadata": {},
   "source": [
    "## **Train-Validation Split**\n",
    "\n",
    "We split the dataset into training and validation sets using an 80-20 split. This will help us evaluate model performance on unseen data."
   ]
  },
  {
   "cell_type": "code",
   "execution_count": 10,
   "metadata": {},
   "outputs": [],
   "source": [
    "X_train, X_val, y_train, y_val = train_test_split(padded_sequences, labels, test_size=0.2, random_state=42)"
   ]
  },
  {
   "cell_type": "markdown",
   "metadata": {},
   "source": [
    "## **Create Tensor Datasets and Data Loaders**\n",
    "\n",
    "The training and validation sets are converted into tensor datasets and loaded into **PyTorch DataLoaders** to enable batch processing during model training."
   ]
  },
  {
   "cell_type": "code",
   "execution_count": 11,
   "metadata": {},
   "outputs": [],
   "source": [
    "train_data = TensorDataset(torch.from_numpy(X_train).long(), torch.from_numpy(y_train).float())\n",
    "val_data = TensorDataset(torch.from_numpy(X_val).long(), torch.from_numpy(y_val).float())\n",
    "train_loader = DataLoader(train_data, shuffle=True, batch_size=50)\n",
    "val_loader = DataLoader(val_data, shuffle=True, batch_size=50)"
   ]
  },
  {
   "cell_type": "markdown",
   "metadata": {},
   "source": [
    "## **Define RNN Model**\n",
    "\n",
    "We define a simple Recurrent Neural Network (RNN) model using **PyTorch**. The model consists of an embedding layer, an RNN layer, a dropout layer to prevent overfitting, and a fully connected layer that outputs the predictions."
   ]
  },
  {
   "cell_type": "code",
   "execution_count": 12,
   "metadata": {},
   "outputs": [],
   "source": [
    "class RNN(nn.Module):\n",
    "    def __init__(self, output_size, embedding_dim, hidden_dim, n_layers, drop_prob=0.5):\n",
    "        super(RNN, self).__init__()\n",
    "        self.output_size = output_size\n",
    "        self.n_layers = n_layers\n",
    "        self.hidden_dim = hidden_dim\n",
    "        \n",
    "        self.embedding = nn.Embedding(len(tokenizer.word_index) + 1, embedding_dim)\n",
    "        self.rnn = nn.RNN(embedding_dim, hidden_dim, n_layers, dropout=drop_prob, batch_first=True)\n",
    "        self.dropout = nn.Dropout(0.5)\n",
    "        self.fc = nn.Linear(hidden_dim, output_size)\n",
    "        \n",
    "    def forward(self, x):\n",
    "        embedded = self.embedding(x)\n",
    "        out, hidden = self.rnn(embedded)\n",
    "        out = self.dropout(out)\n",
    "        out = self.fc(out[:, -1])\n",
    "        return out"
   ]
  },
  {
   "cell_type": "markdown",
   "metadata": {},
   "source": [
    "## **Define LSTM Model**\n",
    "\n",
    "We define a Long Short-Term Memory (LSTM) model using **PyTorch**. This model is designed to handle longer sequences and capture long-term dependencies in the data. Like the RNN model, it has embedding, LSTM, dropout, and fully connected layers."
   ]
  },
  {
   "cell_type": "code",
   "execution_count": 13,
   "metadata": {},
   "outputs": [],
   "source": [
    "class LSTM(nn.Module):\n",
    "    def __init__(self, vocab_size, embedding_dim, hidden_dim, output_size, n_layers, drop_prob=0.5):\n",
    "        super(LSTM, self).__init__()\n",
    "        self.output_size = output_size\n",
    "        self.n_layers = n_layers\n",
    "        self.hidden_dim = hidden_dim\n",
    "        \n",
    "        self.embedding = nn.Embedding(vocab_size, embedding_dim)\n",
    "        self.lstm = nn.LSTM(embedding_dim, hidden_dim, n_layers, dropout=drop_prob, batch_first=True)\n",
    "        self.dropout = nn.Dropout(drop_prob)\n",
    "        self.fc = nn.Linear(hidden_dim, output_size)\n",
    "\n",
    "    def forward(self, x):\n",
    "        embedded = self.embedding(x)\n",
    "        lstm_out, (hidden, cell) = self.lstm(embedded)\n",
    "        lstm_out = self.dropout(lstm_out[:, -1])\n",
    "        out = self.fc(lstm_out)\n",
    "        return out\n"
   ]
  },
  {
   "cell_type": "markdown",
   "metadata": {},
   "source": [
    "## **Define Accuracy Function**\n",
    "\n",
    "We define an accuracy function to compute the accuracy of the model predictions. The function takes the model outputs and labels, and calculates the proportion of correct predictions."
   ]
  },
  {
   "cell_type": "code",
   "execution_count": 14,
   "metadata": {},
   "outputs": [],
   "source": [
    "def accuracy(outputs, labels):\n",
    "    _, preds = torch.max(outputs, dim=1)\n",
    "    return torch.tensor(torch.sum(preds == labels).item() / len(preds))\n"
   ]
  },
  {
   "cell_type": "markdown",
   "metadata": {},
   "source": [
    "## **Model Initialization**\n",
    "\n",
    "Here we initialize the RNN and LSTM models. We set hyperparameters such as the number of epochs, embedding dimension, hidden layer dimension, and the number of layers for both models. We also move the models to the selected device (GPU or CPU).\n"
   ]
  },
  {
   "cell_type": "code",
   "execution_count": 15,
   "metadata": {},
   "outputs": [],
   "source": [
    "epochs = 20\n",
    "output_size = 3\n",
    "embedding_dim = 400\n",
    "hidden_dim = 256\n",
    "n_layers = 2\n",
    "vocab_size = len(tokenizer.word_index) + 1\n",
    "\n",
    "rnn_model = RNN(output_size, embedding_dim, hidden_dim, n_layers).to(device)\n",
    "lstm_model = LSTM(vocab_size, embedding_dim, hidden_dim, output_size, n_layers).to(device)"
   ]
  },
  {
   "cell_type": "markdown",
   "metadata": {},
   "source": [
    "## **Model Summary**\n",
    "\n",
    "We define a helper function to print the summary of the models. This will display the architecture and layers of both the RNN and LSTM models."
   ]
  },
  {
   "cell_type": "code",
   "execution_count": 16,
   "metadata": {},
   "outputs": [
    {
     "name": "stdout",
     "output_type": "stream",
     "text": [
      "Model Summary for RNN\n",
      "RNN(\n",
      "  (embedding): Embedding(7259, 400)\n",
      "  (rnn): RNN(400, 256, num_layers=2, batch_first=True, dropout=0.5)\n",
      "  (dropout): Dropout(p=0.5, inplace=False)\n",
      "  (fc): Linear(in_features=256, out_features=3, bias=True)\n",
      ")\n",
      "\n",
      "\n",
      "Model Summary for LSTM\n",
      "LSTM(\n",
      "  (embedding): Embedding(7259, 400)\n",
      "  (lstm): LSTM(400, 256, num_layers=2, batch_first=True, dropout=0.5)\n",
      "  (dropout): Dropout(p=0.5, inplace=False)\n",
      "  (fc): Linear(in_features=256, out_features=3, bias=True)\n",
      ")\n",
      "\n",
      "\n"
     ]
    }
   ],
   "source": [
    "def print_model_summary(model, model_name):\n",
    "    print(f\"Model Summary for {model_name}\")\n",
    "    print(model)\n",
    "    print(\"\\n\")\n",
    "\n",
    "print_model_summary(rnn_model, \"RNN\")\n",
    "print_model_summary(lstm_model, \"LSTM\")"
   ]
  },
  {
   "cell_type": "markdown",
   "metadata": {},
   "source": [
    "## **Define Optimizers and Loss Function**\n",
    "\n",
    "We define the optimizers and the loss function for training the RNN and LSTM models. We use the Adam optimizer with a learning rate of 0.001 and CrossEntropyLoss as the loss function.\n"
   ]
  },
  {
   "cell_type": "code",
   "execution_count": 17,
   "metadata": {},
   "outputs": [],
   "source": [
    "rnn_optimizer = optim.Adam(rnn_model.parameters(), lr=0.001)\n",
    "lstm_optimizer = optim.Adam(lstm_model.parameters(), lr=0.001)\n",
    "\n",
    "criterion = nn.CrossEntropyLoss()\n"
   ]
  },
  {
   "cell_type": "markdown",
   "metadata": {},
   "source": [
    "## **Training and Validation Function**\n",
    "\n",
    "This function handles both the training and validation processes. For each epoch, it trains the model on the training set and evaluates it on the validation set. It tracks and returns the training and validation losses as well as validation accuracy.\n"
   ]
  },
  {
   "cell_type": "code",
   "execution_count": 18,
   "metadata": {},
   "outputs": [],
   "source": [
    "def train_and_validate(model, optimizer, criterion, train_loader, val_loader, epochs, device):\n",
    "    train_losses, val_losses, val_accs = [], [], []\n",
    "\n",
    "    for epoch in range(epochs):\n",
    "        model.train()\n",
    "        total_train_loss = 0\n",
    "        for inputs, labels in train_loader:\n",
    "            inputs, labels = inputs.to(device), labels.to(device)\n",
    "            optimizer.zero_grad()\n",
    "            output = model(inputs)\n",
    "            loss = criterion(output, torch.max(labels, 1)[1])\n",
    "            loss.backward()\n",
    "            optimizer.step()\n",
    "            total_train_loss += loss.item()\n",
    "\n",
    "        model.eval()\n",
    "        total_val_loss, total_acc = 0, 0\n",
    "        with torch.no_grad():\n",
    "            for inputs, labels in val_loader:\n",
    "                inputs, labels = inputs.to(device), labels.to(device)\n",
    "                output = model(inputs)\n",
    "                val_loss = criterion(output, torch.max(labels, 1)[1])\n",
    "                total_val_loss += val_loss.item()\n",
    "                acc = accuracy(output, torch.max(labels, 1)[1])\n",
    "                total_acc += acc.item()\n",
    "\n",
    "        avg_train_loss = total_train_loss / len(train_loader)\n",
    "        avg_val_loss = total_val_loss / len(val_loader)\n",
    "        avg_acc = total_acc / len(val_loader)\n",
    "\n",
    "        train_losses.append(avg_train_loss)\n",
    "        val_losses.append(avg_val_loss)\n",
    "        val_accs.append(avg_acc)\n",
    "\n",
    "        print(f'Epoch: {epoch+1}/{epochs}, Train Loss: {avg_train_loss}, Val Loss: {avg_val_loss}, Val Acc: {avg_acc}')\n",
    "\n",
    "    return train_losses, val_losses, val_accs\n"
   ]
  },
  {
   "cell_type": "markdown",
   "metadata": {},
   "source": [
    "## **Plot Training and Validation Losses**\n",
    "\n",
    "This function plots the training and validation losses over the epochs to help visualize model performance and check for overfitting or underfitting."
   ]
  },
  {
   "cell_type": "code",
   "execution_count": 19,
   "metadata": {},
   "outputs": [],
   "source": [
    "def plot_losses(Model_name, train_losses, val_losses, epochs):\n",
    "    plt.plot(range(1, epochs + 1), train_losses, label='Training Loss')\n",
    "    plt.plot(range(1, epochs + 1), val_losses, label='Validation Loss')\n",
    "    plt.title(f'Training and Validation Losses for {Model_name}')\n",
    "    plt.xlabel('Epochs')\n",
    "    plt.ylabel('Loss')\n",
    "    plt.legend()\n",
    "    plt.show()\n"
   ]
  },
  {
   "cell_type": "markdown",
   "metadata": {},
   "source": [
    "## **Train RNN Model**\n",
    "\n",
    "We begin training the RNN model by calling the `train_and_validate` function and plotting the losses for each epoch.\n"
   ]
  },
  {
   "cell_type": "code",
   "execution_count": 20,
   "metadata": {},
   "outputs": [
    {
     "name": "stdout",
     "output_type": "stream",
     "text": [
      "RNN Start Training: \n",
      "\n",
      "Epoch: 1/20, Train Loss: 0.6674906147255314, Val Loss: 0.5931657480342047, Val Acc: 0.7659682512283326\n",
      "Epoch: 2/20, Train Loss: 0.5265973635929094, Val Loss: 0.49109324770314355, Val Acc: 0.8029841201645987\n",
      "Epoch: 3/20, Train Loss: 0.45318714743681093, Val Loss: 0.5100609881537301, Val Acc: 0.7992698379925319\n",
      "Epoch: 4/20, Train Loss: 0.3717113445988662, Val Loss: 0.4915888684136527, Val Acc: 0.8184761890343257\n",
      "Epoch: 5/20, Train Loss: 0.3714301130540079, Val Loss: 0.5374643645116262, Val Acc: 0.798888885974884\n",
      "Epoch: 6/20, Train Loss: 0.25888301268648756, Val Loss: 0.4389736777969769, Val Acc: 0.8496190454278674\n",
      "Epoch: 7/20, Train Loss: 0.20310827860568495, Val Loss: 0.45130846734557833, Val Acc: 0.8571111040455954\n",
      "Epoch: 8/20, Train Loss: 0.16507670263217078, Val Loss: 0.4930744435106005, Val Acc: 0.8675555510180337\n",
      "Epoch: 9/20, Train Loss: 0.13567694431680033, Val Loss: 0.5439091901694025, Val Acc: 0.8576190437589373\n",
      "Epoch: 10/20, Train Loss: 0.1341790175467408, Val Loss: 0.5112203302127974, Val Acc: 0.8599047584193094\n",
      "Epoch: 11/20, Train Loss: 0.10819082450550452, Val Loss: 0.5528168175901685, Val Acc: 0.8666349130017417\n",
      "Epoch: 12/20, Train Loss: 0.09773163803310382, Val Loss: 0.5501340597867965, Val Acc: 0.8692063467843192\n",
      "Epoch: 13/20, Train Loss: 0.08392149739121522, Val Loss: 0.5892121046648494, Val Acc: 0.8774285657065255\n",
      "Epoch: 14/20, Train Loss: 0.08154973473145272, Val Loss: 0.6190105038029807, Val Acc: 0.8629841191428048\n",
      "Epoch: 15/20, Train Loss: 0.08010456034002437, Val Loss: 0.6330205088215215, Val Acc: 0.8745714264256613\n",
      "Epoch: 16/20, Train Loss: 0.0879929719857952, Val Loss: 0.6237399463142668, Val Acc: 0.8624126945223127\n",
      "Epoch: 17/20, Train Loss: 0.07108452166564655, Val Loss: 0.6638041055628232, Val Acc: 0.8726984100682394\n",
      "Epoch: 18/20, Train Loss: 0.09511368294169444, Val Loss: 0.6397165470889636, Val Acc: 0.8591111080987113\n",
      "Epoch: 19/20, Train Loss: 0.05339768096610314, Val Loss: 0.7017979592084884, Val Acc: 0.8741904718535287\n",
      "Epoch: 20/20, Train Loss: 0.03046989163447493, Val Loss: 0.7866163384701524, Val Acc: 0.8678412641797747\n"
     ]
    },
    {
     "data": {
      "image/png": "[encoded data removed]",
      "text/plain": [
       "<Figure size 640x480 with 1 Axes>"
      ]
     },
     "metadata": {},
     "output_type": "display_data"
    }
   ],
   "source": [
    "print(\"RNN Start Training: \\n\")\n",
    "rnn_train_losses, rnn_val_losses, rnn_val_accs = train_and_validate(rnn_model, rnn_optimizer, criterion, train_loader, val_loader, epochs, device)\n",
    "plot_losses(\"RNN\", rnn_train_losses, rnn_val_losses, epochs)"
   ]
  },
  {
   "cell_type": "markdown",
   "metadata": {},
   "source": [
    "## **Train LSTM Model**\n",
    "\n",
    "Similarly, we train the LSTM model and plot the losses across epochs for both training and validation sets."
   ]
  },
  {
   "cell_type": "code",
   "execution_count": 21,
   "metadata": {},
   "outputs": [
    {
     "name": "stdout",
     "output_type": "stream",
     "text": [
      "LSTM Start Training: \n",
      "\n",
      "Epoch: 1/20, Train Loss: 0.5543129785026578, Val Loss: 0.4148785957268306, Val Acc: 0.8335555476801736\n",
      "Epoch: 2/20, Train Loss: 0.3447224205668024, Val Loss: 0.36806384112153734, Val Acc: 0.862349202803203\n",
      "Epoch: 3/20, Train Loss: 0.22387321494358906, Val Loss: 0.35104322284460066, Val Acc: 0.8812063472611563\n",
      "Epoch: 4/20, Train Loss: 0.1427735599133072, Val Loss: 0.38053924622280255, Val Acc: 0.8817777752876281\n",
      "Epoch: 5/20, Train Loss: 0.0963259484324095, Val Loss: 0.45315161219664984, Val Acc: 0.8838412633963993\n",
      "Epoch: 6/20, Train Loss: 0.07467796858199102, Val Loss: 0.43788980644728454, Val Acc: 0.8923492022923061\n",
      "Epoch: 7/20, Train Loss: 0.062490340323093606, Val Loss: 0.4585233573402677, Val Acc: 0.8872698400701795\n",
      "Epoch: 8/20, Train Loss: 0.04995875566588085, Val Loss: 0.4973904646666987, Val Acc: 0.895999995299748\n",
      "Epoch: 9/20, Train Loss: 0.034380573774738195, Val Loss: 0.5270593882405332, Val Acc: 0.894126980645316\n",
      "Epoch: 10/20, Train Loss: 0.02942226201307578, Val Loss: 0.6002342667164547, Val Acc: 0.8946349169526782\n",
      "Epoch: 11/20, Train Loss: 0.025958819713706498, Val Loss: 0.6193465736295496, Val Acc: 0.892825391462871\n",
      "Epoch: 12/20, Train Loss: 0.027479480379579334, Val Loss: 0.5767954860414778, Val Acc: 0.8885396770068578\n",
      "Epoch: 13/20, Train Loss: 0.028871282484556594, Val Loss: 0.6042501503639089, Val Acc: 0.8914285685334887\n",
      "Epoch: 14/20, Train Loss: 0.028580159516108938, Val Loss: 0.6022097395999091, Val Acc: 0.8933968263013022\n",
      "Epoch: 15/20, Train Loss: 0.01667060348202756, Val Loss: 0.6595926830640695, Val Acc: 0.8928571385996682\n",
      "Epoch: 16/20, Train Loss: 0.01590329855023012, Val Loss: 0.6524204134142825, Val Acc: 0.896698408467429\n",
      "Epoch: 17/20, Train Loss: 0.028775449350747204, Val Loss: 0.6210370678986822, Val Acc: 0.8865396814686911\n",
      "Epoch: 18/20, Train Loss: 0.027657833849955116, Val Loss: 0.597168499657086, Val Acc: 0.8891111033303397\n",
      "Epoch: 19/20, Train Loss: 0.02652894223645738, Val Loss: 0.5864922863032137, Val Acc: 0.89349205493927\n",
      "Epoch: 20/20, Train Loss: 0.018386377085635956, Val Loss: 0.6217570435255766, Val Acc: 0.8978412619658879\n"
     ]
    },
    {
     "data": {
      "image/png": "[encoded data removed]",
      "text/plain": [
       "<Figure size 640x480 with 1 Axes>"
      ]
     },
     "metadata": {},
     "output_type": "display_data"
    }
   ],
   "source": [
    "print(\"LSTM Start Training: \\n\")\n",
    "lstm_train_losses, lstm_val_losses, lstm_val_accs = train_and_validate(lstm_model, lstm_optimizer, criterion, train_loader, val_loader, epochs, device)\n",
    "plot_losses(\"LSTM\", lstm_train_losses, lstm_val_losses, epochs)"
   ]
  },
  {
   "cell_type": "markdown",
   "metadata": {},
   "source": [
    "## **Build GUI for Sentiment Prediction**\n",
    "\n",
    "We build a simple GUI using **tkinter** for sentiment prediction. The user can enter a review, choose between the RNN or LSTM model, and the predicted sentiment will be displayed."
   ]
  },
  {
   "cell_type": "code",
   "execution_count": 28,
   "metadata": {},
   "outputs": [],
   "source": [
    "import tkinter as tk\n",
    "from tkinter import messagebox\n",
    "import torch\n",
    "\n",
    "# Assuming your models and tokenization are already set up\n",
    "\n",
    "# Example predict_sentiment function (modify as per your actual model and preprocessing)\n",
    "def predict_sentiment(model, review, tokenizer, max_len, device):\n",
    "    review_cleaned = text_preprocessing(review)  # Assuming text_preprocessing is defined\n",
    "    sequence = tokenizer.texts_to_sequences([review_cleaned])\n",
    "    padded_sequence = pad_sequences(sequence, maxlen=max_len)\n",
    "    input_tensor = torch.from_numpy(padded_sequence).long().to(device)\n",
    "    model.eval()\n",
    "    with torch.no_grad():\n",
    "        prediction = model(input_tensor)\n",
    "        predicted_index = torch.argmax(prediction, dim=1).item()\n",
    "    sentiment_map = {0: 'Negative', 1: 'Neutral', 2: 'Positive'}\n",
    "    return sentiment_map[predicted_index]\n",
    "\n",
    "# Action triggered when the \"Predict Sentiment\" button is clicked\n",
    "def on_predict():\n",
    "    review = text_entry.get(\"1.0\", \"end-1c\")  # Get the input text from the Text widget\n",
    "    if review.strip() == \"\":\n",
    "        messagebox.showinfo(\"Prediction\", \"Please enter a review for prediction.\")\n",
    "    else:\n",
    "        selected_model = model_var.get()  # Get selected model (RNN or LSTM)\n",
    "        if selected_model == 'RNN':\n",
    "            model_to_use = rnn_model  # Ensure rnn_model is defined\n",
    "        elif selected_model == 'LSTM':\n",
    "            model_to_use = lstm_model  # Ensure lstm_model is defined\n",
    "        predicted_sentiment = predict_sentiment(model_to_use, review, tokenizer, max_len, device)\n",
    "        messagebox.showinfo(\"Prediction\", f\"The predicted sentiment of the review is: {predicted_sentiment}\")\n",
    "\n",
    "# GUI setup\n",
    "root = tk.Tk()\n",
    "root.title(\"Sentiment Analysis of Reviews\")\n",
    "\n",
    "# Add a Text box to enter reviews\n",
    "text_entry = tk.Text(root, height=10, width=50)\n",
    "text_entry.pack(padx=10, pady=10)\n",
    "\n",
    "# Add model selection radio buttons\n",
    "model_var = tk.StringVar(value='LSTM')  # Default model selection is LSTM \n",
    "rnn_button = tk.Radiobutton(root, text=\"RNN\", variable=model_var, value='RNN')\n",
    "lstm_button = tk.Radiobutton(root, text=\"LSTM\", variable=model_var, value='LSTM')\n",
    "\n",
    "rnn_button.pack()\n",
    "lstm_button.pack()\n",
    "\n",
    "# Add prediction button\n",
    "predict_button = tk.Button(root, text=\"Predict Sentiment\", command=on_predict)\n",
    "predict_button.pack(pady=10)\n",
    "\n",
    "# Run the GUI\n",
    "root.mainloop() \n"
   ]
  }
 ],
 "metadata": {
  "kernelspec": {
   "display_name": "sentiment_analysis",
   "language": "python",
   "name": "python3"
  },
  "language_info": {
   "codemirror_mode": {
    "name": "ipython",
    "version": 3
   },
   "file_extension": ".py",
   "mimetype": "text/x-python",
   "name": "python",
   "nbconvert_exporter": "python",
   "pygments_lexer": "ipython3",
   "version": "3.10.15"
  }
 },
 "nbformat": 4,
 "nbformat_minor": 2
}
